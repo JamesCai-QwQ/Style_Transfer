{
 "cells": [
  {
   "cell_type": "code",
   "execution_count": null,
   "metadata": {
    "metadata": {}
   },
   "outputs": [],
   "source": [
    "import torch\n",
    "import torch.optim as optim\n",
    "import torchvision.models as models\n",
    "import matplotlib.pyplot as plt\n",
    "from torchvision import transforms\n",
    "from PIL import Image"
   ]
  },
  {
   "cell_type": "code",
   "execution_count": null,
   "metadata": {
    "metadata": {}
   },
   "outputs": [],
   "source": [
    "device = torch.device(\"cuda\" if torch.cuda.is_available() else \"cpu\")\n",
    "print(f\"The device is {device}\")"
   ]
  },
  {
   "cell_type": "code",
   "execution_count": null,
   "metadata": {
    "metadata": {}
   },
   "outputs": [],
   "source": [
    "content_dir = './content'\n",
    "style_dir = './style'\n",
    "output_dir = './output'\n",
    "\n",
    "content_name = 'Rohm'\n",
    "style_name = 'Starry_Night'\n",
    "output_name = f'{content_name}_' + f'{style_name}'\n",
    "\n",
    "content_path = f'./{content_dir}/' + f'{content_name}.jpg'\n",
    "style_path = f'./{style_dir}/' + f'{style_name}.jpg'\n",
    "output_path = f'./{output_dir}/' + f'{output_name}.jpg'\n",
    "\n",
    "def load_image(image_path):\n",
    "    try:\n",
    "        image = Image.open(image_path)\n",
    "        if image is None:\n",
    "            raise ValueError(f'Can not load image, please check path:{image_path}')\n",
    "    except Exception as e:\n",
    "        raise ValueError(f\"Can not read image:{e}\")\n",
    "\n",
    "    return image\n",
    "\n",
    "content_image = load_image(content_path)\n",
    "style_image = load_image(style_path)\n"
   ]
  },
  {
   "cell_type": "code",
   "execution_count": null,
   "metadata": {
    "metadata": {}
   },
   "outputs": [],
   "source": [
    "# 对输入图形进行预处理\n",
    "def preprocess(img):\n",
    "    Preprocess = transforms.Compose([\n",
    "        transforms.Resize((256,256)), # 改变图形大小\n",
    "        transforms.ToTensor(),  # 调整为Tensor\n",
    "        transforms.Normalize(mean=[0.485, 0.456, 0.406], std=[0.229, 0.224, 0.225]) # 标准化\n",
    "    ])\n",
    "\n",
    "    return Preprocess(img).unsqueeze(0) # 便于批量处理,在dim0上扩展维度\n",
    "\n",
    "content_image = preprocess(content_image).to(device)\n",
    "style_image = preprocess(style_image).to(device)\n",
    "\n",
    "# print(content_image)\n",
    "# print(style_image)"
   ]
  },
  {
   "cell_type": "code",
   "execution_count": null,
   "metadata": {
    "metadata": {}
   },
   "outputs": [],
   "source": [
    "class VGGFeatures(torch.nn.Module):\n",
    "    def __init__(self):\n",
    "        super(VGGFeatures,self).__init__()\n",
    "        self.vgg = models.vgg19(weights=models.VGG19_Weights.IMAGENET1K_V1).features[:21].eval()\n",
    "        for param in self.vgg.parameters():\n",
    "            param.requires_grad = False\n",
    "        self.vgg.to(device)\n",
    "\n",
    "    def forward(self, x):\n",
    "        features = []\n",
    "        for layer in self.vgg:\n",
    "            x = layer(x)\n",
    "            if isinstance(layer, torch.nn.ReLU):\n",
    "                features.append(x)\n",
    "        return features\n",
    "        "
   ]
  },
  {
   "cell_type": "code",
   "execution_count": null,
   "metadata": {
    "metadata": {}
   },
   "outputs": [],
   "source": [
    "# 提取特征\n",
    "def get_features(image, model):\n",
    "    layers = {\n",
    "        0 :'conv1', \n",
    "        2 :'conv2',\n",
    "        5 :'conv3',\n",
    "        7 :'conv4', \n",
    "        10:'conv5',\n",
    "        12:'conv6',\n",
    "        14:'conv7',\n",
    "        16:'conv8',\n",
    "        19:'conv9'\n",
    "\n",
    "    }\n",
    "    features = {}\n",
    "    x = image\n",
    "\n",
    "    for name, layer in model._modules.items():\n",
    "        for i in range(len(layer)):\n",
    "            x = layer[i](x)\n",
    "            if i in layers.keys():\n",
    "                features[layers[i]] = x\n",
    "\n",
    "    return features\n",
    "\n",
    "# 计算内容损失\n",
    "def content_loss(content_weight, content_features, target_features):\n",
    "    return content_weight * torch.mean((target_features - content_features) ** 2)\n",
    "\n",
    "# 计算风格损失\n",
    "def gram_matrix(tensor):\n",
    "    _, d, h, w = tensor.size()\n",
    "    tensor = tensor.view(d, h * w)\n",
    "    gram = torch.mm(tensor, tensor.t())\n",
    "    return gram"
   ]
  },
  {
   "cell_type": "code",
   "execution_count": null,
   "metadata": {
    "metadata": {}
   },
   "outputs": [],
   "source": [
    "def style_loss(style_weight, style_grams, target_features):\n",
    "    loss = 0\n",
    "    for layer in style_grams:\n",
    "        target_gram = gram_matrix(target_features[layer])\n",
    "        style_gram = style_grams[layer]\n",
    "        layer_loss = style_weight * torch.mean((target_gram - style_gram) ** 2)\n",
    "        loss += layer_loss\n",
    "    return loss"
   ]
  },
  {
   "cell_type": "code",
   "execution_count": null,
   "metadata": {
    "metadata": {}
   },
   "outputs": [],
   "source": [
    "# 初始化模型和特征\n",
    "vgg = VGGFeatures()\n",
    "content_features = get_features(content_image, vgg)\n",
    "style_features = get_features(style_image, vgg)\n",
    "style_grams = {layer: gram_matrix(style_features[layer]) for layer in style_features}\n",
    "\n",
    "# 初始化目标图像\n",
    "target_image = content_image.clone().requires_grad_(True)\n",
    "\n",
    "# 优化器\n",
    "optimizer = optim.Adam([target_image], lr=0.001)\n",
    "\n",
    "# 训练循环\n",
    "num_steps = 2000\n",
    "content_weight = 1e4\n",
    "style_weight = 1e3\n",
    "init_loss = 0\n",
    "\n",
    "for step in range(num_steps):\n",
    "    target_features = get_features(target_image, vgg)\n",
    "    c_loss = content_loss(content_weight, content_features['conv9'], target_features['conv9'])\n",
    "    s_loss = style_loss(style_weight, style_grams, target_features)\n",
    "    total_loss = c_loss + s_loss\n",
    "\n",
    "    optimizer.zero_grad()\n",
    "    total_loss.backward()\n",
    "    optimizer.step()\n",
    "\n",
    "    if step == 0:\n",
    "        init_loss = total_loss\n",
    "    #if step % 100 == 0:\n",
    "        #print(f\"Step {step}, Content Loss:{c_loss.item()}, Style Loss:{s_loss.item()}\")\n",
    "        #print(f\"Total loss:{total_loss}, percentage:{(100*total_loss/init_loss)}%\")\n",
    "\n",
    "# 显示结果\n",
    "def imshow(tensor, title=None):\n",
    "    image = tensor.cpu().clone().detach().numpy().squeeze()\n",
    "    image = image.transpose(1, 2, 0)\n",
    "    image = image * [0.229, 0.224, 0.225] + [0.485, 0.456, 0.406]\n",
    "    image = image.clip(0, 1)\n",
    "    plt.imshow(image)\n",
    "    plt.axis('off')\n",
    "    plt.savefig(output_path,bbox_inches='tight', pad_inches=0)\n",
    "    plt.show()\n",
    "\n",
    "imshow(target_image, title='Styled Image')\n",
    "\n",
    "\n",
    "print(f\"The Image has been Generated Successfully at {output_dir}/{content_name}_{style_name}.jpg\")"
   ]
  }
 ],
 "metadata": {
  "kernelspec": {
   "display_name": "sty_trans",
   "language": "python",
   "name": "python3"
  },
  "language_info": {
   "codemirror_mode": {
    "name": "ipython",
    "version": 3
   },
   "file_extension": ".py",
   "mimetype": "text/x-python",
   "name": "python",
   "nbconvert_exporter": "python",
   "pygments_lexer": "ipython3",
   "version": "3.10.14"
  }
 },
 "nbformat": 4,
 "nbformat_minor": 2
}
